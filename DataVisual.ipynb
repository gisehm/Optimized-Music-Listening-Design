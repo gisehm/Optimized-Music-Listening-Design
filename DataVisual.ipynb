{
 "cells": [
  {
   "cell_type": "code",
   "execution_count": null,
   "id": "c9890df4",
   "metadata": {},
   "outputs": [],
   "source": [
    "import pandas as pd\n",
    "import matplotlib.pyplot as plt\n",
    "from sklearn.cluster import KMeans\n",
    "from sklearn.preprocessing import StandardScaler\n",
    "import seaborn as sns\n",
    "\n",
    "df = pd.read_csv('SpotifyMostStreamedSongs.csv', engine = 'python')\n",
    "\n",
    "plt.hist(df.danceability, bins = 15)\n",
    "\n",
    "plt.title(\"Danceability Descriptives\")\n",
    "plt.xlabel(\"Danceability (%)\")\n",
    "plt.ylabel(\"# of Songs\")"
   ]
  },
  {
   "cell_type": "code",
   "execution_count": null,
   "id": "efcf6e81",
   "metadata": {},
   "outputs": [],
   "source": [
    "plt.hist(df.energy, bins = 15)\n",
    "\n",
    "plt.title(\"Energy Descriptives\")\n",
    "plt.xlabel(\"Energy (%)\")\n",
    "plt.ylabel(\"# of Songs\")"
   ]
  },
  {
   "cell_type": "code",
   "execution_count": null,
   "id": "c179aa72",
   "metadata": {},
   "outputs": [],
   "source": [
    "plt.hist(df.acousticness, bins = 15)\n",
    "\n",
    "plt.title(\"Acousticness Descriptives\")\n",
    "plt.xlabel(\"Acousticness (%)\")\n",
    "plt.ylabel(\"# of Songs\")"
   ]
  },
  {
   "cell_type": "code",
   "execution_count": null,
   "id": "cacd42e1",
   "metadata": {},
   "outputs": [],
   "source": [
    "X = df[['danceability', 'valence', 'energy', 'acousticness', 'instrumentalness', 'liveness', 'speechiness']]\n",
    "\n",
    "scaler = StandardScaler()\n",
    "X_scaled = scaler.fit_transform(X)\n",
    "\n",
    "kmeans = KMeans(n_clusters = 5, random_state = 42)\n",
    "kmeans.fit(X_scaled)\n",
    "\n",
    "df['Cluster'] = kmeans.labels_\n",
    "plt.figure(figsize = (10, 6))\n",
    "sns.scatterplot(x = df['danceability'], y = df['acousticness'], hue = df['Cluster'], palette = 'viridis', s = 100)\n",
    "plt.scatter(kmeans.cluster_centers_[:, 1], kmeans.cluster_centers_[:, 2], s = 300, c = 'red', label = 'Centroids')\n",
    "plt.title('Music Segments based on Danceability and Acousticness Percentages')\n",
    "plt.xlabel(\"Danceability (%)\")\n",
    "plt.ylabel(\"Acousticness (%)\")\n",
    "plt.legend()\n",
    "plt.show()"
   ]
  },
  {
   "cell_type": "code",
   "execution_count": null,
   "id": "68319bb7",
   "metadata": {},
   "outputs": [],
   "source": [
    "plt.figure(figsize = (10, 6))\n",
    "sns.scatterplot(x = df['danceability'], y = df['energy'], hue = df['Cluster'], palette = 'viridis', s = 100)\n",
    "plt.scatter(kmeans.cluster_centers_[:, 1], kmeans.cluster_centers_[:, 2], s = 300, c = 'red', label = 'Centroids')\n",
    "plt.title('Music Segments based on Danceability and Energy Percentages')\n",
    "plt.xlabel(\"Danceability (%)\")\n",
    "plt.ylabel(\"Energy (%)\")\n",
    "plt.legend()\n",
    "plt.show()"
   ]
  }
 ],
 "metadata": {
  "kernelspec": {
   "display_name": "Python 3",
   "language": "python",
   "name": "python3"
  },
  "language_info": {
   "codemirror_mode": {
    "name": "ipython",
    "version": 3
   },
   "file_extension": ".py",
   "mimetype": "text/x-python",
   "name": "python",
   "nbconvert_exporter": "python",
   "pygments_lexer": "ipython3",
   "version": "3.13.4"
  }
 },
 "nbformat": 4,
 "nbformat_minor": 5
}
